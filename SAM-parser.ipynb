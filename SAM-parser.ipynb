{
 "cells": [
  {
   "cell_type": "code",
   "execution_count": 1,
   "metadata": {},
   "outputs": [],
   "source": [
    "#Goal of this analysis is to:\n",
    "#1 Group reads based on barcode and perform filtering and quality control on barcode groups\n",
    "#2 Determine Amplicon Sequencing Bias to help adjust primer ratios\n",
    "#3 Generate Tables of Read Mappings for Each Barcode\n",
    "\n",
    "#Begin with imports\n",
    "import timeit\n",
    "import os\n",
    "import numpy as np\n",
    "import pandas as pd\n",
    "import seaborn as sns\n",
    "pd.set_option(\"display.precision\", 2) #floats displayed 3 digits\n",
    "cpallet = [\"#6CC860\",\"#8CC860\",\"#C4E54C\",\"#F7DD48\",\"#F5A232\",\"#FC8609\",\"#FE6315\"]*3\n",
    "import matplotlib.pyplot as plot\n",
    "plot.rcParams['svg.fonttype'] = 'none'\n",
    "import scipy.stats as stats\n",
    "from labellines import labelLine, labelLines\n",
    "\n",
    "header = [] #global var to keep track of the header of the SAM file\n",
    "\n",
    "#def some classes and basic functions for dealing with the SAM files\n",
    "class Read (object):\n",
    "    '''this reads class is specific to SAM files, contains a bunch of attribtues:\n",
    "ID(barcode), Sequence, Mapping position, Mapping quality, CIGAR string, and FLAG and align'''\n",
    "    def __init__ (self, ID = \"default\", seq = \"none\", MapPos = -1, MapQ = -1, CIGAR = \"none\", FLAG = \"none\", align = \"none\"):\n",
    "        self.ID = ID\n",
    "        self.seq = seq\n",
    "        self.MapPos = MapPos\n",
    "        self.MapQ = MapQ\n",
    "        self.CIGAR = CIGAR\n",
    "        self.FLAG = FLAG\n",
    "        self.align = align\n",
    "        self.species = \"N/A\"\n",
    "        return\n",
    "        \n",
    "    def __str__ (self):\n",
    "        return \"ID: %s \\t Seq: %s \\t MapPos: %d \\t CIGAR: %s \\t FLAG: %s \\t align: %s\" % (self.ID, self.seq, self.MapPos, self.CIGAR, self.FLAG, self.align)\n",
    "\n",
    "class Bargroup (object):\n",
    "    def __init__(self, bar = \"default\", reads = [], species = \"undet\", num_genes = -1):\n",
    "        self.bar = bar\n",
    "        self.reads = reads\n",
    "        self.species = species\n",
    "        self.num_genes = num_genes\n",
    "        return\n",
    "        \n",
    "\n",
    "#this function takes the SAM file as input and parses it into a dictionary of barcodes and reads\n",
    "def in_put1 (infile, limit = 0):      \n",
    "    bargroups = {}\n",
    "    count = 0\n",
    "    \n",
    "    for line in infile:  #each line is a new read\n",
    "        if line[0] == \"@\":        #ignore the line if it is a header\n",
    "            header.append(line)\n",
    "            continue       \n",
    "        \n",
    "        count += 1        \n",
    "\n",
    "        split = line.split(\"\\t\")    #split line into separate words\n",
    "        #now assign each segment of the split into a read\n",
    "        try:\n",
    "            #read = Read (ID = split[0][:15], align = split[2], seq = split[9], MapPos = int(split[3]), MapQ = split[4], CIGAR = split[5], FLAG = split[1])\n",
    "            read = Read (ID = split[0], align = split[2], seq = split[9], MapPos = int(split[3]), MapQ = int(split[4]), CIGAR = split[5]) \n",
    "\n",
    "        except:\n",
    "            print( split[3])\n",
    "            print( \"read could not be stored\")\n",
    "        \n",
    "        if read.ID[:15] in bargroups:\n",
    "            bargroups[read.ID[:15]].reads.append(read)\n",
    "        else:\n",
    "            bargroups[read.ID[:15]] = Bargroup(bar = read.ID, reads = [read])\n",
    "        \n",
    "        if limit != 0:\n",
    "            if count >= limit:\n",
    "                break\n",
    "    print( \"%d reads inputted\" % count)\n",
    "    return bargroups\n",
    "\n"
   ]
  },
  {
   "cell_type": "code",
   "execution_count": 2,
   "metadata": {},
   "outputs": [
    {
     "name": "stdout",
     "output_type": "stream",
     "text": [
      "/home/flan3@ad.wisc.edu/SICMA-analysis/scripts/DoTA-seq/for-paper\n"
     ]
    },
    {
     "data": {
      "text/plain": [
       "['24-1-comm6psg0',\n",
       " '24-2-comm6psg0',\n",
       " '28-1-psg1erm',\n",
       " '28-3-psg1erm',\n",
       " '28-6-psg2erm',\n",
       " '28-7-psg2erm']"
      ]
     },
     "execution_count": 2,
     "metadata": {},
     "output_type": "execute_result"
    }
   ],
   "source": [
    "#Set paths and get all the SAM files to be analyzed\n",
    "print(os.getcwd())\n",
    "samplename = \"comm6-summary\"\n",
    "os.chdir(\"/mnt/scratch/freeman/comm6summary/finaldata\")\n",
    "files = os.listdir(os.getcwd())\n",
    "files = [f for f in files if f[-4:] == \".sam\" and f.find(\"Unde\") == -1]\n",
    "files.sort()\n",
    "\n",
    "prefix = [f[:-4] for f in files]\n",
    "prefix #prefix is used to keep track of samples and for naming files"
   ]
  },
  {
   "cell_type": "code",
   "execution_count": 12,
   "metadata": {},
   "outputs": [
    {
     "name": "stdout",
     "output_type": "stream",
     "text": [
      "1467281 reads inputted\n",
      "1679668 reads inputted\n",
      "3328139 reads inputted\n",
      "4762512 reads inputted\n",
      "2341638 reads inputted\n",
      "2480943 reads inputted\n",
      "it took 107.29114546393976 seconds\n"
     ]
    }
   ],
   "source": [
    "#import the reads into memory usin the in_put function\n",
    "tic = timeit.default_timer()\n",
    "\n",
    "libraries = []\n",
    "for f in files:\n",
    "    filename = f\n",
    "    with open(filename, \"r\") as infile:\n",
    "        libraries.append(in_put1(infile))\n",
    "toc = timeit.default_timer()\n",
    "\n",
    "print(f\"it took {toc-tic} seconds\")"
   ]
  },
  {
   "cell_type": "code",
   "execution_count": 13,
   "metadata": {},
   "outputs": [
    {
     "name": "stdout",
     "output_type": "stream",
     "text": [
      "24-1-comm6psg0.sam the file contains 54542 bargroups\n",
      "24-2-comm6psg0.sam the file contains 65804 bargroups\n",
      "28-1-psg1erm.sam the file contains 145458 bargroups\n",
      "28-3-psg1erm.sam the file contains 212753 bargroups\n",
      "28-6-psg2erm.sam the file contains 110308 bargroups\n",
      "28-7-psg2erm.sam the file contains 122567 bargroups\n"
     ]
    },
    {
     "data": {
      "image/png": "[encoded data removed]",
      "text/plain": [
       "<Figure size 1296x360 with 6 Axes>"
      ]
     },
     "metadata": {
      "needs_background": "light"
     },
     "output_type": "display_data"
    }
   ],
   "source": [
    "#QC all libraries for how many reads per bargroup, decide which bargroups to keep based on number of reads they contain\n",
    "\n",
    "#vlines are the cutoffs for removing barcode groups that are too small (too few reads)\n",
    "#adjust vlines to match the inflection points of each library\n",
    "vlines = [80, 80, 80, 80, 80, 80]\n",
    "\n",
    "fig, axs = plot.subplots(1, len(libraries), figsize = [3*len(libraries), 5])\n",
    "fig.tight_layout()    \n",
    "\n",
    "#A jackpottocurve is a cumulative histogram of the barcode grouped reads binned by group size (# of reads per group)\n",
    "def jackpottocurve(fig, ax, barsize, vline):         \n",
    "        #prepare data to plot the jackpottocurve\n",
    "        X = np.array(barsize) #make an np array of the data so we can use the various np functions\n",
    "        X.sort()\n",
    "        X_lorenz = X.cumsum() / X.sum() #turns it into a cumsum percentage (for y-axis)\n",
    "        X_lorenz = np.insert(X_lorenz, 0, 0) #insert the 0,0 point\n",
    "        X = np.insert(X, 0, 0) #insert 0,0 point for X as well\n",
    "    \n",
    "        ## scatter plot of the jackpottocurve (modificaiton of the lorenz curve)\n",
    "        ax.scatter(X, X_lorenz, \n",
    "                   marker='o', color='darkgreen', s=100) #x axis is cumulative barcode number, yaxis is cumulative total # reads\n",
    "        ax.set_title(f\"lib{prefix[i]}\")\n",
    "        ax.set_xlim((1,max(barsize)))\n",
    "        ax.set_xscale(\"log\", basex=10)\n",
    "        ax.set_xlabel(\"Bargroups ranked by Size\")\n",
    "        ax.set_ylabel(\"Cumulative Reads Used\")\n",
    "        ax.vlines(vline, 0, 1)\n",
    "        return\n",
    "\n",
    "\n",
    "for i in range(len(libraries)):\n",
    "    #confirm how many bargroups there are\n",
    "    print(f\"{files[i]} the file contains {len(libraries[i])} bargroups\")\n",
    "    \n",
    "    #let's now plot the bargroup sizes\n",
    "    #first obtain the list of bargroup sizes\n",
    "    barsize = []\n",
    "    lib = libraries[i]\n",
    "    for b in lib:\n",
    "        barsize.append(len(lib[b].reads))\n",
    "    #plot them on the figure\n",
    "    ax = axs[i]\n",
    "    jackpottocurve(fig, ax, barsize, vlines[i])\n",
    "\n"
   ]
  },
  {
   "cell_type": "code",
   "execution_count": 14,
   "metadata": {},
   "outputs": [
    {
     "name": "stdout",
     "output_type": "stream",
     "text": [
      "library 24-1-comm6psg0.sam\n",
      "49112 groups removed, 5430 groups kept, cutoff is 80\n",
      "library 24-2-comm6psg0.sam\n",
      "60304 groups removed, 5500 groups kept, cutoff is 80\n",
      "library 28-1-psg1erm.sam\n",
      "132387 groups removed, 13071 groups kept, cutoff is 80\n",
      "library 28-3-psg1erm.sam\n",
      "193782 groups removed, 18971 groups kept, cutoff is 80\n",
      "library 28-6-psg2erm.sam\n",
      "101145 groups removed, 9163 groups kept, cutoff is 80\n",
      "library 28-7-psg2erm.sam\n",
      "111115 groups removed, 11452 groups kept, cutoff is 80\n"
     ]
    }
   ],
   "source": [
    "#now let's filter out the barcodes with specified cutoff # of reads (vlines)\n",
    "def filter_bar(groups, cutoff):\n",
    "    filtered_groups = {}\n",
    "    deleted = 0\n",
    "    for key in groups:\n",
    "        if len(groups[key].reads) >= cutoff:\n",
    "            filtered_groups[key] = groups[key]\n",
    "        else:\n",
    "            deleted += 1\n",
    "    print(f\"{deleted} groups removed, {len(filtered_groups)} groups kept, cutoff is {cutoff}\")\n",
    "    return filtered_groups\n",
    "\n",
    "filtered_libraries = []\n",
    "for i in range(len(libraries)):\n",
    "    print(f\"library {files[i]}\")\n",
    "    filtered_libraries.append(filter_bar(libraries[i], vlines[i]))\n",
    "\n"
   ]
  },
  {
   "cell_type": "code",
   "execution_count": 15,
   "metadata": {},
   "outputs": [
    {
     "ename": "IndexError",
     "evalue": "list index out of range",
     "output_type": "error",
     "traceback": [
      "\u001b[0;31m---------------------------------------------------------------------------\u001b[0m",
      "\u001b[0;31mIndexError\u001b[0m                                Traceback (most recent call last)",
      "\u001b[0;32m<ipython-input-15-5378d53eed87>\u001b[0m in \u001b[0;36m<module>\u001b[0;34m\u001b[0m\n\u001b[1;32m     32\u001b[0m \u001b[0mlibraries\u001b[0m \u001b[0;34m=\u001b[0m \u001b[0;32mNone\u001b[0m \u001b[0;31m#clear the libraries variable to free up memory\u001b[0m\u001b[0;34m\u001b[0m\u001b[0;34m\u001b[0m\u001b[0m\n\u001b[1;32m     33\u001b[0m \u001b[0;34m\u001b[0m\u001b[0m\n\u001b[0;32m---> 34\u001b[0;31m \u001b[0mdfs\u001b[0m\u001b[0;34m[\u001b[0m\u001b[0;36m0\u001b[0m\u001b[0;34m]\u001b[0m\u001b[0;34m\u001b[0m\u001b[0;34m\u001b[0m\u001b[0m\n\u001b[0m\u001b[1;32m     35\u001b[0m \u001b[0;34m\u001b[0m\u001b[0m\n",
      "\u001b[0;31mIndexError\u001b[0m: list index out of range"
     ]
    }
   ],
   "source": [
    "#turn the grouped reads into a pandas dataframe\n",
    "\n",
    "#datastructure as such: rows = each barcode, columns = # reads for each target\n",
    "dfs = []\n",
    "for i in range(len(libraries)):\n",
    "    groups = filtered_libraries[i]\n",
    "    rowlist = []\n",
    "    keylist = []\n",
    "    mappednames = set()\n",
    "    for b in groups:\n",
    "        keylist.append(b)\n",
    "        row = {}\n",
    "        for r in groups[b].reads:\n",
    "            if r.align in row:\n",
    "                row[r.align] += 1\n",
    "            else:\n",
    "                row[r.align] = 1\n",
    "        rowlist.append(row)\n",
    "        \n",
    "    df = pd.DataFrame(rowlist, index = keylist)\n",
    "    df = df.fillna(0) #replace NaN values with 0s\n",
    "    #fix column headers\n",
    "    #sort column header\n",
    "    df = df.reindex(sorted(df.columns), axis=1) #reindex based on sorted new columns\n",
    "    #fix names\n",
    "    cols = df.columns.tolist()\n",
    "    cols = [c if c.find(\"|\") == -1 else c.split(\"|\")[5] for c in cols]\n",
    "    df.columns = cols    \n",
    "    #add to the dfs list\n",
    "    dfs.append(df)    \n",
    "\n",
    "libraries = None #clear the libraries variable to free up memory\n",
    "    \n",
    "dfs[0]\n",
    "\n"
   ]
  },
  {
   "cell_type": "code",
   "execution_count": null,
   "metadata": {},
   "outputs": [],
   "source": [
    "#export dataframe to excel sheet\n",
    "for i in range(len(prefix)):\n",
    "    with pd.ExcelWriter(f'{prefix[i]}.xlsx') as writer:  \n",
    "        dfs[i].to_excel(writer)"
   ]
  }
 ],
 "metadata": {
  "kernelspec": {
   "display_name": "Python 3",
   "language": "python",
   "name": "python3"
  },
  "language_info": {
   "codemirror_mode": {
    "name": "ipython",
    "version": 3
   },
   "file_extension": ".py",
   "mimetype": "text/x-python",
   "name": "python",
   "nbconvert_exporter": "python",
   "pygments_lexer": "ipython3",
   "version": "3.8.2"
  }
 },
 "nbformat": 4,
 "nbformat_minor": 4
}
